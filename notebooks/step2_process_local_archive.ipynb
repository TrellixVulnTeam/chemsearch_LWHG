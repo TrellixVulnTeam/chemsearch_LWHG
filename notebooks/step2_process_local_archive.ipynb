{
 "cells": [
  {
   "cell_type": "code",
   "execution_count": 1,
   "metadata": {},
   "outputs": [],
   "source": [
    "import os\n",
    "import sys\n",
    "import logging\n",
    "FORMAT = '%(message)s'\n",
    "logging.basicConfig(level=logging.INFO, stream=sys.stdout, format=FORMAT)\n",
    "\n",
    "%load_ext autoreload\n",
    "%autoreload 2"
   ]
  },
  {
   "cell_type": "code",
   "execution_count": 20,
   "metadata": {},
   "outputs": [],
   "source": [
    "import pandas as pd\n",
    "\n",
    "from chemsearch import admin"
   ]
  },
  {
   "cell_type": "markdown",
   "metadata": {},
   "source": [
    "## Gather metadata for all molecules in local archive\n",
    "\n",
    "- assumes that local archive has already been set up, as in `scan_gdrive.ipynb`"
   ]
  },
  {
   "cell_type": "code",
   "execution_count": 74,
   "metadata": {},
   "outputs": [
    {
     "name": "stdout",
     "output_type": "stream",
     "text": [
      "Processing directory: local_db/beta/270062-84-5_4-Bromo-L-beta-homophenylalanine hydrochloride__g_20190203\n",
      "Processing directory: local_db/aramids/test\n",
      "Reference images written to molecule directories.\n",
      "Molecule identifiers and fingerprints written to local_db/summary.tsv.\n"
     ]
    }
   ],
   "source": [
    "local_archive_path = 'local_db'\n",
    "\n",
    "df = admin.assemble_archive_metadata(local_archive_path)"
   ]
  },
  {
   "cell_type": "code",
   "execution_count": 66,
   "metadata": {},
   "outputs": [
    {
     "data": {
      "text/html": [
       "<div>\n",
       "<style scoped>\n",
       "    .dataframe tbody tr th:only-of-type {\n",
       "        vertical-align: middle;\n",
       "    }\n",
       "\n",
       "    .dataframe tbody tr th {\n",
       "        vertical-align: top;\n",
       "    }\n",
       "\n",
       "    .dataframe thead th {\n",
       "        text-align: right;\n",
       "    }\n",
       "</style>\n",
       "<table border=\"1\" class=\"dataframe\">\n",
       "  <thead>\n",
       "    <tr style=\"text-align: right;\">\n",
       "      <th></th>\n",
       "      <th>molecule_id</th>\n",
       "      <th>category</th>\n",
       "      <th>user</th>\n",
       "      <th>mod_time</th>\n",
       "      <th>smiles</th>\n",
       "      <th>smarts</th>\n",
       "      <th>inchi</th>\n",
       "      <th>inchi_key</th>\n",
       "      <th>fingerprint_substructure</th>\n",
       "      <th>fingerprint_similarity</th>\n",
       "    </tr>\n",
       "  </thead>\n",
       "  <tbody>\n",
       "    <tr>\n",
       "      <th>0</th>\n",
       "      <td>1bfwLfILUgthqEG6p_xAMEa_6s6zqvhlT</td>\n",
       "      <td>beta</td>\n",
       "      <td>Stephen Gaffney</td>\n",
       "      <td>2020-04-17 06:55:18.000</td>\n",
       "      <td>Cl.N[C@@H](CC(=O)O)Cc1ccc(Br)cc1</td>\n",
       "      <td>[#6](-[#6]-[#6@H](-[#7])-[#6]-[#6]1:[#6]:[#6]:...</td>\n",
       "      <td>InChI=1S/C10H12BrNO2.ClH/c11-8-3-1-7(2-4-8)5-9...</td>\n",
       "      <td>QMUGXLUXLGZZSC-SBSPUUFOSA-N</td>\n",
       "      <td>4P///wAIAAD4AAAAEC4IIgoQAAAMLhACDhoaFAAaHAQkEg...</td>\n",
       "      <td>b'AQAAAAQAAAD/////HQAAAE9YcQQBAAAAccbYBAEAAADj...</td>\n",
       "    </tr>\n",
       "    <tr>\n",
       "      <th>1</th>\n",
       "      <td>1WPqztifg5j0FTCjB1r3xi4SXdsfbU2D2</td>\n",
       "      <td>aramids</td>\n",
       "      <td>Stephen Gaffney</td>\n",
       "      <td>2020-01-16 14:32:17.000</td>\n",
       "      <td>c1ccc(CCC2CCCCC2)cc1</td>\n",
       "      <td>[#6]1-[#6]-[#6]-[#6]-[#6](-[#6]-1)-[#6]-[#6]-[...</td>\n",
       "      <td>InChI=1S/C14H20/c1-3-7-13(8-4-1)11-12-14-9-5-2...</td>\n",
       "      <td>HYYFAYFMSHAWFA-UHFFFAOYSA-N</td>\n",
       "      <td>4P///wAIAACaAAAAPgQoHgAsDkwKDggAFChIBhIIAFQkIE...</td>\n",
       "      <td>b'AQAAAAQAAAD/////FwAAANtMNwABAAAAQDTfBQMAAAAC...</td>\n",
       "    </tr>\n",
       "  </tbody>\n",
       "</table>\n",
       "</div>"
      ],
      "text/plain": [
       "                         molecule_id category             user  \\\n",
       "0  1bfwLfILUgthqEG6p_xAMEa_6s6zqvhlT     beta  Stephen Gaffney   \n",
       "1  1WPqztifg5j0FTCjB1r3xi4SXdsfbU2D2  aramids  Stephen Gaffney   \n",
       "\n",
       "                  mod_time                            smiles  \\\n",
       "0  2020-04-17 06:55:18.000  Cl.N[C@@H](CC(=O)O)Cc1ccc(Br)cc1   \n",
       "1  2020-01-16 14:32:17.000              c1ccc(CCC2CCCCC2)cc1   \n",
       "\n",
       "                                              smarts  \\\n",
       "0  [#6](-[#6]-[#6@H](-[#7])-[#6]-[#6]1:[#6]:[#6]:...   \n",
       "1  [#6]1-[#6]-[#6]-[#6]-[#6](-[#6]-1)-[#6]-[#6]-[...   \n",
       "\n",
       "                                               inchi  \\\n",
       "0  InChI=1S/C10H12BrNO2.ClH/c11-8-3-1-7(2-4-8)5-9...   \n",
       "1  InChI=1S/C14H20/c1-3-7-13(8-4-1)11-12-14-9-5-2...   \n",
       "\n",
       "                     inchi_key  \\\n",
       "0  QMUGXLUXLGZZSC-SBSPUUFOSA-N   \n",
       "1  HYYFAYFMSHAWFA-UHFFFAOYSA-N   \n",
       "\n",
       "                            fingerprint_substructure  \\\n",
       "0  4P///wAIAAD4AAAAEC4IIgoQAAAMLhACDhoaFAAaHAQkEg...   \n",
       "1  4P///wAIAACaAAAAPgQoHgAsDkwKDggAFChIBhIIAFQkIE...   \n",
       "\n",
       "                              fingerprint_similarity  \n",
       "0  b'AQAAAAQAAAD/////HQAAAE9YcQQBAAAAccbYBAEAAADj...  \n",
       "1  b'AQAAAAQAAAD/////FwAAANtMNwABAAAAQDTfBQMAAAAC...  "
      ]
     },
     "execution_count": 66,
     "metadata": {},
     "output_type": "execute_result"
    }
   ],
   "source": [
    "df"
   ]
  },
  {
   "cell_type": "markdown",
   "metadata": {},
   "source": [
    "## (old) Demo archive processing (creating images and printing smiles/inchi/etc)"
   ]
  },
  {
   "cell_type": "code",
   "execution_count": 15,
   "metadata": {},
   "outputs": [
    {
     "name": "stdout",
     "output_type": "stream",
     "text": [
      "Organizing molecule directory: local_db/beta/270062-84-5_4-Bromo-L-beta-homophenylalanine hydrochloride__g_20190203\n"
     ]
    },
    {
     "data": {
      "image/png": "[encoded data removed]",
      "text/plain": [
       "<rdkit.Chem.rdchem.Mol at 0x11e34d210>"
      ]
     },
     "metadata": {},
     "output_type": "display_data"
    },
    {
     "name": "stdout",
     "output_type": "stream",
     "text": [
      "  smiles: Cl.N[C@@H](CC(=O)O)Cc1ccc(Br)cc1\n",
      "  smarts: [#6](-[#6]-[#6@H](-[#7])-[#6]-[#6]1:[#6]:[#6]:[#6](:[#6]:[#6]:1)-[#35])(=[#8])-[#8].[#17]\n",
      "  inchi: InChI=1S/C10H12BrNO2.ClH/c11-8-3-1-7(2-4-8)5-9(12)6-10(13)14;/h1-4,9H,5-6,12H2,(H,13,14);1H/t9-;/m1./s1\n",
      "  inchi_key: QMUGXLUXLGZZSC-SBSPUUFOSA-N\n",
      "  Reference images written to png and svg.\n",
      "\n",
      "Organizing molecule directory: local_db/aramids/test\n"
     ]
    },
    {
     "data": {
      "image/png": "[encoded data removed]",
      "text/plain": [
       "<rdkit.Chem.rdchem.Mol at 0x11e34d760>"
      ]
     },
     "metadata": {},
     "output_type": "display_data"
    },
    {
     "name": "stdout",
     "output_type": "stream",
     "text": [
      "  smiles: c1ccc(CCC2CCCCC2)cc1\n",
      "  smarts: [#6]1-[#6]-[#6]-[#6]-[#6](-[#6]-1)-[#6]-[#6]-[#6]1:[#6]:[#6]:[#6]:[#6]:[#6]:1\n",
      "  inchi: InChI=1S/C14H20/c1-3-7-13(8-4-1)11-12-14-9-5-2-6-10-14/h1,3-4,7-8,14H,2,5-6,9-12H2\n",
      "  inchi_key: HYYFAYFMSHAWFA-UHFFFAOYSA-N\n",
      "  Reference images written to png and svg.\n",
      "\n"
     ]
    }
   ],
   "source": [
    "admin.demo_gather_metadata_stage_dir(local_archive_path)"
   ]
  }
 ],
 "metadata": {
  "kernelspec": {
   "display_name": "Python 3",
   "language": "python",
   "name": "python3"
  },
  "language_info": {
   "codemirror_mode": {
    "name": "ipython",
    "version": 3
   },
   "file_extension": ".py",
   "mimetype": "text/x-python",
   "name": "python",
   "nbconvert_exporter": "python",
   "pygments_lexer": "ipython3",
   "version": "3.8.1"
  }
 },
 "nbformat": 4,
 "nbformat_minor": 4
}
