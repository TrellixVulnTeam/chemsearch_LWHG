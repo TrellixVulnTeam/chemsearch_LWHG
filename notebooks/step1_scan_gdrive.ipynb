{
 "cells": [
  {
   "cell_type": "markdown",
   "metadata": {},
   "source": [
    "## Setup"
   ]
  },
  {
   "cell_type": "code",
   "execution_count": 1,
   "metadata": {},
   "outputs": [],
   "source": [
    "import os\n",
    "import sys\n",
    "\n",
    "import pandas as pd\n",
    "pd.set_option(\"display.max_rows\", 120)\n",
    "pd.set_option(\"display.max_columns\", 120)\n",
    "\n",
    "import logging\n",
    "FORMAT = '%(message)s'\n",
    "logging.basicConfig(level=logging.INFO, stream=sys.stdout, format=FORMAT)\n",
    "\n",
    "%load_ext autoreload\n",
    "%autoreload 2\n",
    "\n",
    "_logger = logging.getLogger(__name__)"
   ]
  },
  {
   "cell_type": "markdown",
   "metadata": {},
   "source": [
    "### Load env configuration"
   ]
  },
  {
   "cell_type": "raw",
   "metadata": {},
   "source": [
    "%conda install -c defaults -c conda-forge google-api-python-client google-auth google-auth-httplib2"
   ]
  },
  {
   "cell_type": "code",
   "execution_count": 2,
   "metadata": {},
   "outputs": [
    {
     "name": "stderr",
     "output_type": "stream",
     "text": [
      "RDKit WARNING: [17:44:12] Enabling RDKit 2019.09.3 jupyter extensions\n"
     ]
    },
    {
     "name": "stdout",
     "output_type": "stream",
     "text": [
      "Loading .env from /Users/sgg/Dropbox/Townsend/gem-net/chemsearch/chemsearch/.env\n"
     ]
    }
   ],
   "source": [
    "import chemsearch\n",
    "\n",
    "from chemsearch import admin, drive, helpers\n",
    "\n",
    "admin.reload_env()"
   ]
  },
  {
   "cell_type": "markdown",
   "metadata": {},
   "source": [
    "### Load all molecule metadata from Shared Drive"
   ]
  },
  {
   "cell_type": "code",
   "execution_count": 3,
   "metadata": {},
   "outputs": [
    {
     "name": "stdout",
     "output_type": "stream",
     "text": [
      "Folder lookup complete in 1.3 seconds.\n"
     ]
    }
   ],
   "source": [
    "# GET ALL MOLECULE METADATA FROM GOOGLE DRIVE\n",
    "meta = drive.Meta().build()"
   ]
  },
  {
   "cell_type": "code",
   "execution_count": 4,
   "metadata": {},
   "outputs": [
    {
     "data": {
      "text/html": [
       "<div>\n",
       "<style scoped>\n",
       "    .dataframe tbody tr th:only-of-type {\n",
       "        vertical-align: middle;\n",
       "    }\n",
       "\n",
       "    .dataframe tbody tr th {\n",
       "        vertical-align: top;\n",
       "    }\n",
       "\n",
       "    .dataframe thead th {\n",
       "        text-align: right;\n",
       "    }\n",
       "</style>\n",
       "<table border=\"1\" class=\"dataframe\">\n",
       "  <thead>\n",
       "    <tr style=\"text-align: right;\">\n",
       "      <th></th>\n",
       "      <th>category</th>\n",
       "      <th>folder_id</th>\n",
       "      <th>folder_name</th>\n",
       "      <th>folder_modified</th>\n",
       "      <th>folder_user</th>\n",
       "    </tr>\n",
       "  </thead>\n",
       "  <tbody>\n",
       "    <tr>\n",
       "      <th>0</th>\n",
       "      <td>Ad paper</td>\n",
       "      <td>100PbG1gU2PMJLsTxrBe6OHTapxHvgEMR</td>\n",
       "      <td>Ad7.cdxml</td>\n",
       "      <td>2020-05-27 22:46:15.638</td>\n",
       "      <td>Sarah Smaga</td>\n",
       "    </tr>\n",
       "    <tr>\n",
       "      <th>1</th>\n",
       "      <td>Ad paper</td>\n",
       "      <td>11B5n0x51jMiMqtB4-mdl92eG3iC5F599</td>\n",
       "      <td>Ad23.cdxml</td>\n",
       "      <td>2020-05-27 22:13:56.606</td>\n",
       "      <td>Sarah Smaga</td>\n",
       "    </tr>\n",
       "    <tr>\n",
       "      <th>2</th>\n",
       "      <td>Ad paper</td>\n",
       "      <td>118VKb_jJ00t0s8X_em2mxkUi1vG28ecs</td>\n",
       "      <td>Ad22.cdxml</td>\n",
       "      <td>2020-05-27 22:13:42.541</td>\n",
       "      <td>Sarah Smaga</td>\n",
       "    </tr>\n",
       "    <tr>\n",
       "      <th>3</th>\n",
       "      <td>Ad paper</td>\n",
       "      <td>10oOaMyrCfzAyBSjE56szLwjNDYKaqjZY</td>\n",
       "      <td>Ad21.cdxml</td>\n",
       "      <td>2020-05-27 22:13:29.908</td>\n",
       "      <td>Sarah Smaga</td>\n",
       "    </tr>\n",
       "    <tr>\n",
       "      <th>4</th>\n",
       "      <td>Ad paper</td>\n",
       "      <td>10oIyg8yg_GAi7bBCkZJEn4qN5Dder2Xq</td>\n",
       "      <td>Ad20.cdxml</td>\n",
       "      <td>2020-05-27 22:13:12.627</td>\n",
       "      <td>Sarah Smaga</td>\n",
       "    </tr>\n",
       "  </tbody>\n",
       "</table>\n",
       "</div>"
      ],
      "text/plain": [
       "   category                          folder_id folder_name  \\\n",
       "0  Ad paper  100PbG1gU2PMJLsTxrBe6OHTapxHvgEMR   Ad7.cdxml   \n",
       "1  Ad paper  11B5n0x51jMiMqtB4-mdl92eG3iC5F599  Ad23.cdxml   \n",
       "2  Ad paper  118VKb_jJ00t0s8X_em2mxkUi1vG28ecs  Ad22.cdxml   \n",
       "3  Ad paper  10oOaMyrCfzAyBSjE56szLwjNDYKaqjZY  Ad21.cdxml   \n",
       "4  Ad paper  10oIyg8yg_GAi7bBCkZJEn4qN5Dder2Xq  Ad20.cdxml   \n",
       "\n",
       "          folder_modified  folder_user  \n",
       "0 2020-05-27 22:46:15.638  Sarah Smaga  \n",
       "1 2020-05-27 22:13:56.606  Sarah Smaga  \n",
       "2 2020-05-27 22:13:42.541  Sarah Smaga  \n",
       "3 2020-05-27 22:13:29.908  Sarah Smaga  \n",
       "4 2020-05-27 22:13:12.627  Sarah Smaga  "
      ]
     },
     "execution_count": 4,
     "metadata": {},
     "output_type": "execute_result"
    }
   ],
   "source": [
    "# Show molecule folder metadata (first 5 rows)\n",
    "meta.folders.head()"
   ]
  },
  {
   "cell_type": "code",
   "execution_count": 5,
   "metadata": {},
   "outputs": [
    {
     "data": {
      "text/html": [
       "<div>\n",
       "<style scoped>\n",
       "    .dataframe tbody tr th:only-of-type {\n",
       "        vertical-align: middle;\n",
       "    }\n",
       "\n",
       "    .dataframe tbody tr th {\n",
       "        vertical-align: top;\n",
       "    }\n",
       "\n",
       "    .dataframe thead th {\n",
       "        text-align: right;\n",
       "    }\n",
       "</style>\n",
       "<table border=\"1\" class=\"dataframe\">\n",
       "  <thead>\n",
       "    <tr style=\"text-align: right;\">\n",
       "      <th></th>\n",
       "      <th>id</th>\n",
       "      <th>name</th>\n",
       "      <th>modifiedTime</th>\n",
       "      <th>lastModifyingUser</th>\n",
       "      <th>webContentLink</th>\n",
       "      <th>folder_id</th>\n",
       "      <th>category</th>\n",
       "      <th>folder_name</th>\n",
       "      <th>folder_modified</th>\n",
       "      <th>folder_user</th>\n",
       "    </tr>\n",
       "  </thead>\n",
       "  <tbody>\n",
       "    <tr>\n",
       "      <th>0</th>\n",
       "      <td>1bfwLfILUgthqEG6p_xAMEa_6s6zqvhlT</td>\n",
       "      <td>molecule.mol</td>\n",
       "      <td>2020-04-17 06:55:18</td>\n",
       "      <td>Stephen Gaffney</td>\n",
       "      <td>https://drive.google.com/uc?id=1bfwLfILUgthqEG...</td>\n",
       "      <td>1oSQ9RMdSxpbuzCVD98tidQSBi64ZOZCe</td>\n",
       "      <td>beta</td>\n",
       "      <td>270062-84-5_4-Bromo-L-beta-homophenylalanine h...</td>\n",
       "      <td>2020-05-01 13:16:24.125</td>\n",
       "      <td>Stephen Gaffney</td>\n",
       "    </tr>\n",
       "    <tr>\n",
       "      <th>1</th>\n",
       "      <td>1WPqztifg5j0FTCjB1r3xi4SXdsfbU2D2</td>\n",
       "      <td>testout_mdlmolfile.mol</td>\n",
       "      <td>2020-01-16 14:32:17</td>\n",
       "      <td>Stephen Gaffney</td>\n",
       "      <td>https://drive.google.com/uc?id=1WPqztifg5j0FTC...</td>\n",
       "      <td>1dBN_w3ixjN9eqv53XtijZkGJtzAqspNL</td>\n",
       "      <td>aramids</td>\n",
       "      <td>test</td>\n",
       "      <td>2020-05-01 13:16:22.794</td>\n",
       "      <td>Stephen Gaffney</td>\n",
       "    </tr>\n",
       "  </tbody>\n",
       "</table>\n",
       "</div>"
      ],
      "text/plain": [
       "                                  id                    name  \\\n",
       "0  1bfwLfILUgthqEG6p_xAMEa_6s6zqvhlT            molecule.mol   \n",
       "1  1WPqztifg5j0FTCjB1r3xi4SXdsfbU2D2  testout_mdlmolfile.mol   \n",
       "\n",
       "         modifiedTime lastModifyingUser  \\\n",
       "0 2020-04-17 06:55:18   Stephen Gaffney   \n",
       "1 2020-01-16 14:32:17   Stephen Gaffney   \n",
       "\n",
       "                                      webContentLink  \\\n",
       "0  https://drive.google.com/uc?id=1bfwLfILUgthqEG...   \n",
       "1  https://drive.google.com/uc?id=1WPqztifg5j0FTC...   \n",
       "\n",
       "                           folder_id category  \\\n",
       "0  1oSQ9RMdSxpbuzCVD98tidQSBi64ZOZCe     beta   \n",
       "1  1dBN_w3ixjN9eqv53XtijZkGJtzAqspNL  aramids   \n",
       "\n",
       "                                         folder_name         folder_modified  \\\n",
       "0  270062-84-5_4-Bromo-L-beta-homophenylalanine h... 2020-05-01 13:16:24.125   \n",
       "1                                               test 2020-05-01 13:16:22.794   \n",
       "\n",
       "       folder_user  \n",
       "0  Stephen Gaffney  \n",
       "1  Stephen Gaffney  "
      ]
     },
     "execution_count": 5,
     "metadata": {},
     "output_type": "execute_result"
    }
   ],
   "source": [
    "# Show MOL file metadata\n",
    "meta.molfiles.head()"
   ]
  },
  {
   "cell_type": "code",
   "execution_count": 6,
   "metadata": {},
   "outputs": [
    {
     "data": {
      "text/html": [
       "<div>\n",
       "<style scoped>\n",
       "    .dataframe tbody tr th:only-of-type {\n",
       "        vertical-align: middle;\n",
       "    }\n",
       "\n",
       "    .dataframe tbody tr th {\n",
       "        vertical-align: top;\n",
       "    }\n",
       "\n",
       "    .dataframe thead th {\n",
       "        text-align: right;\n",
       "    }\n",
       "</style>\n",
       "<table border=\"1\" class=\"dataframe\">\n",
       "  <thead>\n",
       "    <tr style=\"text-align: right;\">\n",
       "      <th></th>\n",
       "      <th>category</th>\n",
       "      <th>folder_id</th>\n",
       "      <th>folder_name</th>\n",
       "      <th>folder_modified</th>\n",
       "      <th>folder_user</th>\n",
       "    </tr>\n",
       "  </thead>\n",
       "  <tbody>\n",
       "    <tr>\n",
       "      <th>0</th>\n",
       "      <td>Ad paper</td>\n",
       "      <td>100PbG1gU2PMJLsTxrBe6OHTapxHvgEMR</td>\n",
       "      <td>Ad7.cdxml</td>\n",
       "      <td>2020-05-27 22:46:15.638</td>\n",
       "      <td>Sarah Smaga</td>\n",
       "    </tr>\n",
       "    <tr>\n",
       "      <th>1</th>\n",
       "      <td>Ad paper</td>\n",
       "      <td>11B5n0x51jMiMqtB4-mdl92eG3iC5F599</td>\n",
       "      <td>Ad23.cdxml</td>\n",
       "      <td>2020-05-27 22:13:56.606</td>\n",
       "      <td>Sarah Smaga</td>\n",
       "    </tr>\n",
       "    <tr>\n",
       "      <th>2</th>\n",
       "      <td>Ad paper</td>\n",
       "      <td>118VKb_jJ00t0s8X_em2mxkUi1vG28ecs</td>\n",
       "      <td>Ad22.cdxml</td>\n",
       "      <td>2020-05-27 22:13:42.541</td>\n",
       "      <td>Sarah Smaga</td>\n",
       "    </tr>\n",
       "    <tr>\n",
       "      <th>3</th>\n",
       "      <td>Ad paper</td>\n",
       "      <td>10oOaMyrCfzAyBSjE56szLwjNDYKaqjZY</td>\n",
       "      <td>Ad21.cdxml</td>\n",
       "      <td>2020-05-27 22:13:29.908</td>\n",
       "      <td>Sarah Smaga</td>\n",
       "    </tr>\n",
       "    <tr>\n",
       "      <th>4</th>\n",
       "      <td>Ad paper</td>\n",
       "      <td>10oIyg8yg_GAi7bBCkZJEn4qN5Dder2Xq</td>\n",
       "      <td>Ad20.cdxml</td>\n",
       "      <td>2020-05-27 22:13:12.627</td>\n",
       "      <td>Sarah Smaga</td>\n",
       "    </tr>\n",
       "  </tbody>\n",
       "</table>\n",
       "</div>"
      ],
      "text/plain": [
       "   category                          folder_id folder_name  \\\n",
       "0  Ad paper  100PbG1gU2PMJLsTxrBe6OHTapxHvgEMR   Ad7.cdxml   \n",
       "1  Ad paper  11B5n0x51jMiMqtB4-mdl92eG3iC5F599  Ad23.cdxml   \n",
       "2  Ad paper  118VKb_jJ00t0s8X_em2mxkUi1vG28ecs  Ad22.cdxml   \n",
       "3  Ad paper  10oOaMyrCfzAyBSjE56szLwjNDYKaqjZY  Ad21.cdxml   \n",
       "4  Ad paper  10oIyg8yg_GAi7bBCkZJEn4qN5Dder2Xq  Ad20.cdxml   \n",
       "\n",
       "          folder_modified  folder_user  \n",
       "0 2020-05-27 22:46:15.638  Sarah Smaga  \n",
       "1 2020-05-27 22:13:56.606  Sarah Smaga  \n",
       "2 2020-05-27 22:13:42.541  Sarah Smaga  \n",
       "3 2020-05-27 22:13:29.908  Sarah Smaga  \n",
       "4 2020-05-27 22:13:12.627  Sarah Smaga  "
      ]
     },
     "execution_count": 6,
     "metadata": {},
     "output_type": "execute_result"
    }
   ],
   "source": [
    "# Show molecule folder metadata (first 5 rows)\n",
    "meta.folders.head()"
   ]
  },
  {
   "cell_type": "code",
   "execution_count": 7,
   "metadata": {},
   "outputs": [
    {
     "data": {
      "text/plain": [
       "{'Ad paper': '1-e_ZXObPCgKc9NHIILRlqVFfmGqmx5fZ',\n",
       " 'beta': '1zeAPGjfEMu_lwJNG04kEuY6ghrjlfsRA',\n",
       " 'aramids': '1V4IU0ByNVNXP_Kl_9LHwPjOH4zLCLK55'}"
      ]
     },
     "execution_count": 7,
     "metadata": {},
     "output_type": "execute_result"
    }
   ],
   "source": [
    "# Show categories (and folder IDs)\n",
    "meta.category_dict"
   ]
  },
  {
   "cell_type": "markdown",
   "metadata": {},
   "source": [
    "### Create local archive of molfiles and metadata"
   ]
  },
  {
   "cell_type": "code",
   "execution_count": 8,
   "metadata": {},
   "outputs": [
    {
     "name": "stdout",
     "output_type": "stream",
     "text": [
      "Skipped 2 MOL files already in archive.\n"
     ]
    }
   ],
   "source": [
    "drive.create_local_archive(meta.molfiles, local_root='local_db', \n",
    "                           files_resource=meta.files_resource)"
   ]
  }
 ],
 "metadata": {
  "kernelspec": {
   "display_name": "Python 3",
   "language": "python",
   "name": "python3"
  },
  "language_info": {
   "codemirror_mode": {
    "name": "ipython",
    "version": 3
   },
   "file_extension": ".py",
   "mimetype": "text/x-python",
   "name": "python",
   "nbconvert_exporter": "python",
   "pygments_lexer": "ipython3",
   "version": "3.8.1"
  }
 },
 "nbformat": 4,
 "nbformat_minor": 4
}
