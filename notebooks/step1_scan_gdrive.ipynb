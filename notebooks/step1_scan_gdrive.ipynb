{
 "cells": [
  {
   "cell_type": "markdown",
   "metadata": {},
   "source": [
    "## Setup"
   ]
  },
  {
   "cell_type": "code",
   "execution_count": 1,
   "metadata": {},
   "outputs": [],
   "source": [
    "import os\n",
    "import sys\n",
    "\n",
    "import pandas as pd\n",
    "pd.set_option(\"display.max_rows\", 120)\n",
    "pd.set_option(\"display.max_columns\", 120)\n",
    "\n",
    "import logging\n",
    "FORMAT = '%(message)s'\n",
    "logging.basicConfig(level=logging.INFO, stream=sys.stdout, format=FORMAT)\n",
    "\n",
    "%load_ext autoreload\n",
    "%autoreload 2\n",
    "\n",
    "_logger = logging.getLogger(__name__)"
   ]
  },
  {
   "cell_type": "markdown",
   "metadata": {},
   "source": [
    "### Load env configuration"
   ]
  },
  {
   "cell_type": "code",
   "execution_count": 119,
   "metadata": {},
   "outputs": [
    {
     "name": "stdout",
     "output_type": "stream",
     "text": [
      "Loading .env from /Users/sgg/Dropbox/Townsend/gem-net/chemsearch/chemsearch/notebooks/.env\n"
     ]
    }
   ],
   "source": [
    "import chemsearch\n",
    "\n",
    "from chemsearch import admin, drive, helpers\n",
    "\n",
    "admin.reload_env()"
   ]
  },
  {
   "cell_type": "markdown",
   "metadata": {},
   "source": [
    "### Load all molecule metadata from Shared Drive"
   ]
  },
  {
   "cell_type": "code",
   "execution_count": 136,
   "metadata": {},
   "outputs": [
    {
     "name": "stdout",
     "output_type": "stream",
     "text": [
      "URL being requested: GET https://www.googleapis.com/discovery/v1/apis/drive/v3/rest\n",
      "URL being requested: GET https://www.googleapis.com/drive/v3/files?q=%270ABtONHtg7k_bUk9PVA%27+in+parents+and+trashed+%3D+false+and+mimeType+%3D+%27application%2Fvnd.google-apps.folder%27&corpora=drive&spaces=drive&includeItemsFromAllDrives=true&orderBy=modifiedTime+desc&pageSize=1000&supportsAllDrives=true&driveId=0ABtONHtg7k_bUk9PVA&fields=nextPageToken%2C+files%28name%2C+id%2C+kind%2C+parents%2C+mimeType%2C+createdTime%2C+modifiedTime%2C+trashed%2C+explicitlyTrashed%2C+lastModifyingUser%2FdisplayName%2C+webContentLink%29&alt=json\n",
      "URL being requested: GET https://www.googleapis.com/drive/v3/files?q=%271zeAPGjfEMu_lwJNG04kEuY6ghrjlfsRA%27+in+parents+and+trashed+%3D+false&corpora=drive&spaces=drive&includeItemsFromAllDrives=true&orderBy=modifiedTime+desc&pageSize=1000&supportsAllDrives=true&driveId=0ABtONHtg7k_bUk9PVA&fields=nextPageToken%2C+files%28name%2C+id%2C+kind%2C+parents%2C+mimeType%2C+createdTime%2C+modifiedTime%2C+trashed%2C+explicitlyTrashed%2C+lastModifyingUser%2FdisplayName%2C+webContentLink%29&alt=json\n",
      "URL being requested: GET https://www.googleapis.com/drive/v3/files?q=%271V4IU0ByNVNXP_Kl_9LHwPjOH4zLCLK55%27+in+parents+and+trashed+%3D+false&corpora=drive&spaces=drive&includeItemsFromAllDrives=true&orderBy=modifiedTime+desc&pageSize=1000&supportsAllDrives=true&driveId=0ABtONHtg7k_bUk9PVA&fields=nextPageToken%2C+files%28name%2C+id%2C+kind%2C+parents%2C+mimeType%2C+createdTime%2C+modifiedTime%2C+trashed%2C+explicitlyTrashed%2C+lastModifyingUser%2FdisplayName%2C+webContentLink%29&alt=json\n",
      "Folder lookup complete in 0.9 seconds.\n",
      "URL being requested: GET https://www.googleapis.com/drive/v3/files?q=mimeType+%3D+%27chemical%2Fx-mdl-molfile%27&corpora=drive&spaces=drive&includeItemsFromAllDrives=true&orderBy=modifiedTime+desc&pageSize=1000&supportsAllDrives=true&driveId=0ABtONHtg7k_bUk9PVA&fields=nextPageToken%2C+files%28name%2C+id%2C+kind%2C+parents%2C+mimeType%2C+createdTime%2C+modifiedTime%2C+trashed%2C+explicitlyTrashed%2C+lastModifyingUser%2FdisplayName%2C+webContentLink%29&alt=json\n"
     ]
    }
   ],
   "source": [
    "# GET ALL MOLECULE METADATA FROM GOOGLE DRIVE\n",
    "meta = drive.Meta().build()"
   ]
  },
  {
   "cell_type": "code",
   "execution_count": 140,
   "metadata": {},
   "outputs": [
    {
     "data": {
      "text/html": [
       "<div>\n",
       "<style scoped>\n",
       "    .dataframe tbody tr th:only-of-type {\n",
       "        vertical-align: middle;\n",
       "    }\n",
       "\n",
       "    .dataframe tbody tr th {\n",
       "        vertical-align: top;\n",
       "    }\n",
       "\n",
       "    .dataframe thead th {\n",
       "        text-align: right;\n",
       "    }\n",
       "</style>\n",
       "<table border=\"1\" class=\"dataframe\">\n",
       "  <thead>\n",
       "    <tr style=\"text-align: right;\">\n",
       "      <th></th>\n",
       "      <th>category</th>\n",
       "      <th>folder_id</th>\n",
       "      <th>folder_name</th>\n",
       "      <th>folder_modified</th>\n",
       "      <th>folder_user</th>\n",
       "    </tr>\n",
       "  </thead>\n",
       "  <tbody>\n",
       "    <tr>\n",
       "      <th>0</th>\n",
       "      <td>beta</td>\n",
       "      <td>1iRVdvq0ndvCL3iA5WXQGiyzrQ0J-XjH1</td>\n",
       "      <td>7623042_Bureaucratium_30g_20180202</td>\n",
       "      <td>2020-05-01 13:16:26.428</td>\n",
       "      <td>Stephen Gaffney</td>\n",
       "    </tr>\n",
       "    <tr>\n",
       "      <th>1</th>\n",
       "      <td>beta</td>\n",
       "      <td>1IDQUxGoP5FpW0pNzOwvC0H-ddlcKKQlP</td>\n",
       "      <td>4919441_Byzanium_46g_20180102</td>\n",
       "      <td>2020-05-01 13:16:26.428</td>\n",
       "      <td>Stephen Gaffney</td>\n",
       "    </tr>\n",
       "    <tr>\n",
       "      <th>2</th>\n",
       "      <td>beta</td>\n",
       "      <td>1YpIfyDXQDTiKm6gV8pdkraoGmOIPI0iJ</td>\n",
       "      <td>0111074_Chronoton_2g_20180304</td>\n",
       "      <td>2020-05-01 13:16:26.428</td>\n",
       "      <td>Stephen Gaffney</td>\n",
       "    </tr>\n",
       "    <tr>\n",
       "      <th>3</th>\n",
       "      <td>beta</td>\n",
       "      <td>13VLSIsQClXmk4Mjl3e0Ep-YryWUdKs8V</td>\n",
       "      <td>4189193_Chlorophyte_15g_20181111</td>\n",
       "      <td>2020-05-01 13:16:24.125</td>\n",
       "      <td>Stephen Gaffney</td>\n",
       "    </tr>\n",
       "    <tr>\n",
       "      <th>4</th>\n",
       "      <td>beta</td>\n",
       "      <td>1rV6jLbHgEK4JSvTF9njpCR4mmOsvpC1N</td>\n",
       "      <td>6602406_Celestial Bronze_11g_20180606</td>\n",
       "      <td>2020-05-01 13:16:24.125</td>\n",
       "      <td>Stephen Gaffney</td>\n",
       "    </tr>\n",
       "  </tbody>\n",
       "</table>\n",
       "</div>"
      ],
      "text/plain": [
       "  category                          folder_id  \\\n",
       "0     beta  1iRVdvq0ndvCL3iA5WXQGiyzrQ0J-XjH1   \n",
       "1     beta  1IDQUxGoP5FpW0pNzOwvC0H-ddlcKKQlP   \n",
       "2     beta  1YpIfyDXQDTiKm6gV8pdkraoGmOIPI0iJ   \n",
       "3     beta  13VLSIsQClXmk4Mjl3e0Ep-YryWUdKs8V   \n",
       "4     beta  1rV6jLbHgEK4JSvTF9njpCR4mmOsvpC1N   \n",
       "\n",
       "                             folder_name         folder_modified  \\\n",
       "0     7623042_Bureaucratium_30g_20180202 2020-05-01 13:16:26.428   \n",
       "1          4919441_Byzanium_46g_20180102 2020-05-01 13:16:26.428   \n",
       "2          0111074_Chronoton_2g_20180304 2020-05-01 13:16:26.428   \n",
       "3       4189193_Chlorophyte_15g_20181111 2020-05-01 13:16:24.125   \n",
       "4  6602406_Celestial Bronze_11g_20180606 2020-05-01 13:16:24.125   \n",
       "\n",
       "       folder_user  \n",
       "0  Stephen Gaffney  \n",
       "1  Stephen Gaffney  \n",
       "2  Stephen Gaffney  \n",
       "3  Stephen Gaffney  \n",
       "4  Stephen Gaffney  "
      ]
     },
     "execution_count": 140,
     "metadata": {},
     "output_type": "execute_result"
    }
   ],
   "source": [
    "# Show molecule folder metadata (first 5 rows)\n",
    "meta.folders.head()"
   ]
  },
  {
   "cell_type": "code",
   "execution_count": 141,
   "metadata": {},
   "outputs": [
    {
     "data": {
      "text/html": [
       "<div>\n",
       "<style scoped>\n",
       "    .dataframe tbody tr th:only-of-type {\n",
       "        vertical-align: middle;\n",
       "    }\n",
       "\n",
       "    .dataframe tbody tr th {\n",
       "        vertical-align: top;\n",
       "    }\n",
       "\n",
       "    .dataframe thead th {\n",
       "        text-align: right;\n",
       "    }\n",
       "</style>\n",
       "<table border=\"1\" class=\"dataframe\">\n",
       "  <thead>\n",
       "    <tr style=\"text-align: right;\">\n",
       "      <th></th>\n",
       "      <th>id</th>\n",
       "      <th>name</th>\n",
       "      <th>modifiedTime</th>\n",
       "      <th>lastModifyingUser</th>\n",
       "      <th>webContentLink</th>\n",
       "      <th>folder_id</th>\n",
       "      <th>category</th>\n",
       "      <th>folder_name</th>\n",
       "      <th>folder_modified</th>\n",
       "      <th>folder_user</th>\n",
       "    </tr>\n",
       "  </thead>\n",
       "  <tbody>\n",
       "    <tr>\n",
       "      <th>0</th>\n",
       "      <td>1bfwLfILUgthqEG6p_xAMEa_6s6zqvhlT</td>\n",
       "      <td>molecule.mol</td>\n",
       "      <td>2020-04-17 06:55:18</td>\n",
       "      <td>Stephen Gaffney</td>\n",
       "      <td>https://drive.google.com/a/gem-net.net/uc?id=1...</td>\n",
       "      <td>1oSQ9RMdSxpbuzCVD98tidQSBi64ZOZCe</td>\n",
       "      <td>beta</td>\n",
       "      <td>270062-84-5_4-Bromo-L-beta-homophenylalanine h...</td>\n",
       "      <td>2020-05-01 13:16:24.125</td>\n",
       "      <td>Stephen Gaffney</td>\n",
       "    </tr>\n",
       "    <tr>\n",
       "      <th>1</th>\n",
       "      <td>1WPqztifg5j0FTCjB1r3xi4SXdsfbU2D2</td>\n",
       "      <td>testout_mdlmolfile.mol</td>\n",
       "      <td>2020-01-16 14:32:17</td>\n",
       "      <td>Stephen Gaffney</td>\n",
       "      <td>https://drive.google.com/a/gem-net.net/uc?id=1...</td>\n",
       "      <td>1dBN_w3ixjN9eqv53XtijZkGJtzAqspNL</td>\n",
       "      <td>aramids</td>\n",
       "      <td>test</td>\n",
       "      <td>2020-05-01 13:16:22.794</td>\n",
       "      <td>Stephen Gaffney</td>\n",
       "    </tr>\n",
       "  </tbody>\n",
       "</table>\n",
       "</div>"
      ],
      "text/plain": [
       "                                  id                    name  \\\n",
       "0  1bfwLfILUgthqEG6p_xAMEa_6s6zqvhlT            molecule.mol   \n",
       "1  1WPqztifg5j0FTCjB1r3xi4SXdsfbU2D2  testout_mdlmolfile.mol   \n",
       "\n",
       "         modifiedTime lastModifyingUser  \\\n",
       "0 2020-04-17 06:55:18   Stephen Gaffney   \n",
       "1 2020-01-16 14:32:17   Stephen Gaffney   \n",
       "\n",
       "                                      webContentLink  \\\n",
       "0  https://drive.google.com/a/gem-net.net/uc?id=1...   \n",
       "1  https://drive.google.com/a/gem-net.net/uc?id=1...   \n",
       "\n",
       "                           folder_id category  \\\n",
       "0  1oSQ9RMdSxpbuzCVD98tidQSBi64ZOZCe     beta   \n",
       "1  1dBN_w3ixjN9eqv53XtijZkGJtzAqspNL  aramids   \n",
       "\n",
       "                                         folder_name         folder_modified  \\\n",
       "0  270062-84-5_4-Bromo-L-beta-homophenylalanine h... 2020-05-01 13:16:24.125   \n",
       "1                                               test 2020-05-01 13:16:22.794   \n",
       "\n",
       "       folder_user  \n",
       "0  Stephen Gaffney  \n",
       "1  Stephen Gaffney  "
      ]
     },
     "execution_count": 141,
     "metadata": {},
     "output_type": "execute_result"
    }
   ],
   "source": [
    "# Show MOL file metadata\n",
    "meta.molfiles.head()"
   ]
  },
  {
   "cell_type": "code",
   "execution_count": 139,
   "metadata": {},
   "outputs": [
    {
     "data": {
      "text/plain": [
       "{'beta': '1zeAPGjfEMu_lwJNG04kEuY6ghrjlfsRA',\n",
       " 'aramids': '1V4IU0ByNVNXP_Kl_9LHwPjOH4zLCLK55'}"
      ]
     },
     "execution_count": 139,
     "metadata": {},
     "output_type": "execute_result"
    }
   ],
   "source": [
    "# Show categories (and folder IDs)\n",
    "meta.category_dict"
   ]
  },
  {
   "cell_type": "markdown",
   "metadata": {},
   "source": [
    "### Create local archive of molfiles and metadata"
   ]
  },
  {
   "cell_type": "code",
   "execution_count": 145,
   "metadata": {},
   "outputs": [
    {
     "name": "stdout",
     "output_type": "stream",
     "text": [
      "Skipped 2 MOL files already in archive.\n"
     ]
    }
   ],
   "source": [
    "drive.create_local_archive(meta.molfiles, local_root='local_db', \n",
    "                           files_resource=meta.files_resource)"
   ]
  },
  {
   "cell_type": "code",
   "execution_count": null,
   "metadata": {},
   "outputs": [],
   "source": []
  }
 ],
 "metadata": {
  "kernelspec": {
   "display_name": "Python 3",
   "language": "python",
   "name": "python3"
  },
  "language_info": {
   "codemirror_mode": {
    "name": "ipython",
    "version": 3
   },
   "file_extension": ".py",
   "mimetype": "text/x-python",
   "name": "python",
   "nbconvert_exporter": "python",
   "pygments_lexer": "ipython3",
   "version": "3.8.1"
  }
 },
 "nbformat": 4,
 "nbformat_minor": 4
}
